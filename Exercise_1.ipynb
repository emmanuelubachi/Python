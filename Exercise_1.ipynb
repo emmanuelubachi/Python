{
 "cells": [
  {
   "cell_type": "markdown",
   "metadata": {},
   "source": [
    "# Exercise 1\n",
    "## Reinforcement"
   ]
  },
  {
   "cell_type": "markdown",
   "metadata": {},
   "source": [
    "##### R-1.1\n",
    "Write a short Python function, is_multiple(n, m), that takes two integer\n",
    "values and returns True if n is a multiple of m, that is, n = mi for some\n",
    "integer i, and False otherwise."
   ]
  },
  {
   "cell_type": "code",
   "execution_count": 2,
   "metadata": {},
   "outputs": [
    {
     "data": {
      "text/plain": [
       "True"
      ]
     },
     "execution_count": 2,
     "metadata": {},
     "output_type": "execute_result"
    }
   ],
   "source": [
    "def is_multiple(n, m):\n",
    "    if m == 0: return(False)\n",
    "    if n%m == 0:\n",
    "        return True\n",
    "    else:\n",
    "        return False\n",
    "    \n",
    "multiple = is_multiple(14, 7)\n",
    "multiple\n"
   ]
  },
  {
   "cell_type": "code",
   "execution_count": 4,
   "metadata": {},
   "outputs": [
    {
     "data": {
      "text/plain": [
       "True"
      ]
     },
     "execution_count": 4,
     "metadata": {},
     "output_type": "execute_result"
    }
   ],
   "source": [
    "def is_multiple(n,m):\n",
    "    if m == 0: return (False)\n",
    "    return (n%m == 0)\n",
    "\n",
    "multiple = is_multiple(14, 2)\n",
    "multiple"
   ]
  },
  {
   "cell_type": "markdown",
   "metadata": {},
   "source": [
    "##### R-1.2\n",
    "Write a short Python function, is_even(k), that takes an integer value and\n",
    "returns True if k is even, and False otherwise. However, your function\n",
    "cannot use the multiplication, modulo, or division operators."
   ]
  },
  {
   "cell_type": "code",
   "execution_count": 5,
   "metadata": {},
   "outputs": [
    {
     "data": {
      "text/plain": [
       "False"
      ]
     },
     "execution_count": 5,
     "metadata": {},
     "output_type": "execute_result"
    }
   ],
   "source": [
    "def is_even(k):\n",
    "    for i in range(0, k+1, 2):\n",
    "        if k in range(0, k+1, 2):\n",
    "            return True\n",
    "        else:\n",
    "            return False\n",
    "        \n",
    "even = is_even(101)\n",
    "even"
   ]
  },
  {
   "cell_type": "code",
   "execution_count": 6,
   "metadata": {},
   "outputs": [
    {
     "data": {
      "text/plain": [
       "False"
      ]
     },
     "execution_count": 6,
     "metadata": {},
     "output_type": "execute_result"
    }
   ],
   "source": [
    "def is_even(k:int):\n",
    "    assert type(k) == int, 'Your input must be an int'\n",
    "    return (k&1 == 0)\n",
    "\n",
    "even = is_even(5)\n",
    "even"
   ]
  },
  {
   "cell_type": "markdown",
   "metadata": {},
   "source": [
    "##### R-1.3\n",
    "Write a short Python function, minmax(data), that takes a sequence of\n",
    "one or more numbers, and returns the smallest and largest numbers, in the\n",
    "form of a tuple of length two. Do not use the built-in functions min or\n",
    "max in implementing your solution."
   ]
  },
  {
   "cell_type": "code",
   "execution_count": 7,
   "metadata": {},
   "outputs": [
    {
     "data": {
      "text/plain": [
       "(2, 9)"
      ]
     },
     "execution_count": 7,
     "metadata": {},
     "output_type": "execute_result"
    }
   ],
   "source": [
    "def min_max(data):\n",
    "    min_ = max_ = data[0] \n",
    "    for i in data:\n",
    "        if i < min_: min_ = i\n",
    "        elif i > max_: max_ = i          \n",
    "    return min_, max_\n",
    "\n",
    "num = [2,4,6,9]\n",
    "mx = min_max(num)\n",
    "mx\n"
   ]
  },
  {
   "cell_type": "markdown",
   "metadata": {},
   "source": [
    "##### R-1.4\n",
    "Write a short Python function that takes a positive integer n and returns\n",
    "the sum of the squares of all the positive integers smaller than n."
   ]
  },
  {
   "cell_type": "code",
   "execution_count": 73,
   "metadata": {},
   "outputs": [
    {
     "name": "stdout",
     "output_type": "stream",
     "text": [
      "1\n",
      "285\n",
      "0\n",
      "0\n"
     ]
    }
   ],
   "source": [
    "def square_sum(n):\n",
    "    assert type(n) == int, \"Your input must be an int\"\n",
    "    return sum([i*i for i in range(0,n)])\n",
    "\n",
    "print (square_sum(2))  #want to add up 1*1\n",
    "print (square_sum(10)) # want to add up 1*1, 2*2, etc.\n",
    "print (square_sum(0))\n",
    "print (square_sum(-5))"
   ]
  },
  {
   "cell_type": "markdown",
   "metadata": {},
   "source": [
    "##### R-1.5 \n",
    "Give a single command that computes the sum from Exercise R-1.4, relying on Python’s comprehension syntax and the built-in sum function."
   ]
  },
  {
   "cell_type": "code",
   "execution_count": 11,
   "metadata": {},
   "outputs": [
    {
     "data": {
      "text/plain": [
       "2470"
      ]
     },
     "execution_count": 11,
     "metadata": {},
     "output_type": "execute_result"
    }
   ],
   "source": [
    "n = 20\n",
    "sum([i*i for i in range(0,n)])"
   ]
  },
  {
   "cell_type": "markdown",
   "metadata": {},
   "source": [
    "##### R-1.6 \n",
    "Write a short Python function that takes a positive integer n and returns\n",
    "the sum of the squares of all the odd positive integers smaller than n."
   ]
  },
  {
   "cell_type": "code",
   "execution_count": 74,
   "metadata": {},
   "outputs": [
    {
     "data": {
      "text/plain": [
       "0"
      ]
     },
     "execution_count": 74,
     "metadata": {},
     "output_type": "execute_result"
    }
   ],
   "source": [
    "def square_sum_odd(n):\n",
    "    assert type(n) == int, \"Your input must be an int\"\n",
    "    return sum([ i*i for i in range(0,n) if i&1 == 1])\n",
    "\n",
    "print (square_sum_odd(2))  #want to add up 1*1\n",
    "print (square_sum_odd(10)) # want to add up 1*1, 3*3, etc.\n",
    "print (square_sum_odd(0))\n",
    "print (square_sum_odd(4))\n",
    "print (square_sum_odd(-5))\n",
    "for x in range (10):\n",
    "    print (f'{x}: {square_sum_odd(x)}')"
   ]
  },
  {
   "cell_type": "markdown",
   "metadata": {},
   "source": [
    "##### R-1.7 \n",
    "Give a single command that computes the sum from Exercise R-1.6, relying on Python’s comprehension syntax and the built-in sum function."
   ]
  },
  {
   "cell_type": "code",
   "execution_count": 94,
   "metadata": {},
   "outputs": [
    {
     "data": {
      "text/plain": [
       "35"
      ]
     },
     "execution_count": 94,
     "metadata": {},
     "output_type": "execute_result"
    }
   ],
   "source": [
    "n = 6\n",
    "sum([ i*i for i in range(0,n) if i&1 == 1])\n"
   ]
  },
  {
   "cell_type": "markdown",
   "metadata": {},
   "source": [
    "##### R-1.8 \n",
    "Python allows negative integers to be used as indices into a sequence,\n",
    "such as a string. If string s has length n, and expression s[k] is used for index −n ≤ k < 0, what is the equivalent index j ≥ 0 such that s[j] references\n",
    "the same element?"
   ]
  },
  {
   "cell_type": "code",
   "execution_count": null,
   "metadata": {},
   "outputs": [],
   "source": []
  },
  {
   "cell_type": "markdown",
   "metadata": {},
   "source": [
    "##### R-1.9 \n",
    "What parameters should be sent to the range constructor, to produce a\n",
    "range with values 50, 60, 70, 80?"
   ]
  },
  {
   "cell_type": "code",
   "execution_count": 49,
   "metadata": {},
   "outputs": [
    {
     "data": {
      "text/plain": [
       "[50, 60, 70, 80]"
      ]
     },
     "execution_count": 49,
     "metadata": {},
     "output_type": "execute_result"
    }
   ],
   "source": [
    "[i for i in range(50, 80+1, 10)]"
   ]
  },
  {
   "cell_type": "markdown",
   "metadata": {},
   "source": [
    "##### R-1.10 \n",
    "What parameters should be sent to the range constructor, to produce a\n",
    "range with values 8, 6, 4, 2, 0, −2, −4, −6, −8?"
   ]
  },
  {
   "cell_type": "code",
   "execution_count": 50,
   "metadata": {},
   "outputs": [
    {
     "data": {
      "text/plain": [
       "[8, 6, 4, 2, 0, -2, -4, -6, -8]"
      ]
     },
     "execution_count": 50,
     "metadata": {},
     "output_type": "execute_result"
    }
   ],
   "source": [
    "[i for i in range(8, -8-1, -2)]"
   ]
  },
  {
   "cell_type": "markdown",
   "metadata": {},
   "source": [
    "##### R-1.11 \n",
    "Demonstrate how to use Python’s list comprehension syntax to produce\n",
    "the list [1, 2, 4, 8, 16, 32, 64, 128, 256]."
   ]
  },
  {
   "cell_type": "code",
   "execution_count": 97,
   "metadata": {},
   "outputs": [
    {
     "name": "stdout",
     "output_type": "stream",
     "text": [
      "[1, 2, 4, 8, 16, 32, 64, 128, 256] [1, 2, 4, 8, 16, 32, 64, 128, 256]\n"
     ]
    }
   ],
   "source": [
    "print([2**i for i in range(9)], [pow(2,p) for p in range(9)])"
   ]
  },
  {
   "cell_type": "markdown",
   "metadata": {},
   "source": [
    "##### R-1.12 \n",
    "Python’s random module includes a function choice(data) that returns a\n",
    "random element from a non-empty sequence. The random module includes a more basic function randrange, with parameterization similar to\n",
    "the built-in range function, that return a random choice from the given\n",
    "range. Using only the randrange function, implement your own version\n",
    "of the choice function."
   ]
  },
  {
   "cell_type": "code",
   "execution_count": 122,
   "metadata": {},
   "outputs": [
    {
     "name": "stdout",
     "output_type": "stream",
     "text": [
      "7 4 5 8 5 3 3 3 8 7 3 6 3 5 3 8 8 6 7 7 3 3 7 3 7 7 6 7 8 3 5 3 4 7 3 3 8 5 4 5 5 3 4 7 3 4 5 7 4 6 3 4 8 7 8 4 5 8 7 3 7 5 3 3 8 4 6 5 7 8 5 7 4 4 5 6 8 5 5 4 6 3 6 3 5 4 3 5 7 8 4 8 4 7 7 7 7 7 7 4 4 5 7 7 8 8 4 5 3 6 4 7 3 8 7 4 3 5 5 6 5 7 5 7 8 3 7 5 8 7 8 4 5 8 4 8 4 5 7 4 5 3 4 3 3 5 8 4 4 7 3 6 3 3 4 7 7 6 6 7 5 3 7 5 3 5 4 8 7 3 5 3 3 3 5 3 3 5 8 7 5 3 3 7 5 4 7 8 5 7 5 7 7 5 4 6 4 4 7 5 4 5 4 5 3 5 8 3 3 7 5 5 8 7 7 7 7 5 5 4 6 4 7 7 7 4 7 5 5 3 6 4 8 8 6 5 4 7 5 4 4 6 7 5 5 4 3 5 7 5 3 5 5 5 3 3 6 7 5 4 3 4 3 5 6 7 6 7 7 4 4 7 6 3 8 5 7 6 8 6 7 7 3 8 3 3 6 4 7 5 4 3 3 5 3 4 5 5 5 5 8 5 8 7 7 5 4 5 7 5 6 7 4 5 6 5 5 8 8 4 3 5 3 4 6 5 3 4 5 6 4 7 6 7 6 8 4 4 3 4 3 4 4 3 8 8 7 7 3 5 6 7 7 5 7 5 5 5 7 6 8 3 4 4 6 7 6 4 6 6 5 7 5 4 4 4 3 5 4 3 8 3 3 7 4 3 7 3 6 3 4 4 7 5 4 5 3 4 4 5 "
     ]
    }
   ],
   "source": [
    "from random import randrange\n",
    "\n",
    "data = [2,3,5,7,8,4,3,6,7,4,5]\n",
    "def ran(data): \n",
    "    return data[randrange(1,len(data))]\n",
    "\n",
    "for i in range(400):\n",
    "    print(ran(data), end =\" \")\n"
   ]
  },
  {
   "cell_type": "markdown",
   "metadata": {},
   "source": [
    "## Creativity"
   ]
  },
  {
   "cell_type": "markdown",
   "metadata": {},
   "source": [
    "##### C-1.13 \n",
    "Write a pseudo-code description of a function that reverses a list of n\n",
    "integers, so that the numbers are listed in the opposite order than they\n",
    "were before, and compare this method to an equivalent Python function\n",
    "for doing the same thing."
   ]
  },
  {
   "cell_type": "code",
   "execution_count": 48,
   "metadata": {},
   "outputs": [
    {
     "name": "stdout",
     "output_type": "stream",
     "text": [
      "[2, 3, 5, 7, 8, 4, 3, 6, 7, 4, 5]\n",
      "[2, 3, 5, 7, 8, 4, 3, 6, 7, 4, 5]\n",
      "[2, 3, 5, 7, 8, 4, 3, 6, 7, 4, 5]\n"
     ]
    },
    {
     "data": {
      "text/plain": [
       "(0.2691594999996596, 0.40676409999832686, 0.11329289999957837)"
      ]
     },
     "execution_count": 48,
     "metadata": {},
     "output_type": "execute_result"
    }
   ],
   "source": [
    "numbers = [5, 4, 7, 6, 3, 4, 8, 7, 5, 3, 2]\n",
    "\n",
    "\n",
    "def rev(data): return data[::-1]\n",
    "print(rev(numbers))\n",
    "\n",
    "print(list(reversed(numbers)))\n",
    "\n",
    "numbers.reverse()\n",
    "print(numbers)\n",
    "\n",
    "\n",
    "from timeit import Timer\n",
    "Timer(lambda: rev(numbers)).timeit(), Timer(lambda: list(reversed(numbers))).timeit(), Timer(lambda: numbers.reverse()).timeit()"
   ]
  },
  {
   "cell_type": "markdown",
   "metadata": {},
   "source": [
    "##### C-1.14 \n",
    "Write a short Python function that takes a sequence of integer values and\n",
    "determines if there is a distinct pair of numbers in the sequence whose\n",
    "product is odd."
   ]
  },
  {
   "cell_type": "code",
   "execution_count": 20,
   "metadata": {},
   "outputs": [
    {
     "name": "stdout",
     "output_type": "stream",
     "text": [
      "1\n",
      "0\n",
      "3\n",
      "3\n"
     ]
    }
   ],
   "source": [
    "def distinct_odd(seq):\n",
    "    odd, k = 0, seq[0]\n",
    "    for i in seq:\n",
    "        if i&1 == 1 & k&1 == 1:\n",
    "            odd += 1\n",
    "        k=i\n",
    "    return odd \n",
    "\n",
    "data1=[3,4,5,6]\n",
    "data2=[2,2,4,5,6]\n",
    "data3=[1,2,3,3,5,6]\n",
    "data4=[1,1,2,3,4,5,2,7,5,6]\n",
    "\n",
    "print(distinct_odd(data1), \" - Distinct Odd numbers\")\n",
    "print(distinct_odd(data2), \" - Distinct Odd numbers\")\n",
    "print(distinct_odd(data3), \" - Distinct Odd numbers\")\n",
    "print(distinct_odd(data4), \" - Distinct Odd numbers\")"
   ]
  },
  {
   "cell_type": "markdown",
   "metadata": {},
   "source": [
    "##### C-1.15 \n",
    "Write a Python function that takes a sequence of numbers and determines\n",
    "if all the numbers are different from each other (that is, they are distinct)."
   ]
  },
  {
   "cell_type": "code",
   "execution_count": 27,
   "metadata": {},
   "outputs": [
    {
     "name": "stdout",
     "output_type": "stream",
     "text": [
      "4  - Distinct numbers\n",
      "7  - Distinct numbers\n",
      "8  - Distinct numbers\n",
      "21  - Distinct numbers\n"
     ]
    }
   ],
   "source": [
    "def distinct_num(seq):\n",
    "    num, k = 0, seq[0]\n",
    "    for i in seq:\n",
    "        for j in range(len(seq)):\n",
    "            if i == seq[j]:\n",
    "                num += 1\n",
    "        #k=i\n",
    "    return num \n",
    "\n",
    "data1=[3,4,5,6]\n",
    "data2=[2,2,4,5,6]\n",
    "data3=[1,2,3,3,5,6]\n",
    "data4=[1,1,2,3,4,5,2,2,7,5,6]\n",
    "\n",
    "print(distinct_num(data1), \" - Distinct numbers\")\n",
    "print(distinct_num(data2), \" - Distinct numbers\")\n",
    "print(distinct_num(data3), \" - Distinct numbers\")\n",
    "print(distinct_num(data4), \" - Distinct numbers\")"
   ]
  },
  {
   "cell_type": "markdown",
   "metadata": {},
   "source": [
    "##### C-1.16 \n",
    "In our implementation of the scale function (page 25), the body of the loop\n",
    "executes the command data[j] = factor. We have discussed that numeric\n",
    "types are immutable, and that use of the = operator in this context causes\n",
    "the creation of a new instance (not the mutation of an existing instance).\n",
    "How is it still possible, then, that our implementation of scale changes the\n",
    "actual parameter sent by the caller?"
   ]
  },
  {
   "cell_type": "code",
   "execution_count": null,
   "metadata": {},
   "outputs": [],
   "source": []
  },
  {
   "cell_type": "markdown",
   "metadata": {},
   "source": [
    "##### C-1.17 \n",
    "Had we implemented the scale function (page 25) as follows, does it work\n",
    "properly?\n",
    "def scale(data, factor):\n",
    "for val in data:\n",
    "val = factor\n",
    "Explain why or why not."
   ]
  },
  {
   "cell_type": "code",
   "execution_count": null,
   "metadata": {},
   "outputs": [],
   "source": []
  },
  {
   "cell_type": "markdown",
   "metadata": {},
   "source": [
    "##### C-1.18 \n",
    "Demonstrate how to use Python’s list comprehension syntax to produce\n",
    "the list [0, 2, 6, 12, 20, 30, 42, 56, 72, 90]."
   ]
  },
  {
   "cell_type": "code",
   "execution_count": 33,
   "metadata": {},
   "outputs": [
    {
     "name": "stdout",
     "output_type": "stream",
     "text": [
      "[0, 2, 4, 6, 8, 10, 12, 14, 16]\n"
     ]
    }
   ],
   "source": [
    "print([2*i for i in range(letter, )])"
   ]
  },
  {
   "cell_type": "markdown",
   "metadata": {},
   "source": [
    "##### C-1.19 \n",
    "Demonstrate how to use Python’s list comprehension syntax to produce\n",
    "the list [ a , b , c , ..., z ], but without having to type all 26 such\n",
    "characters literally"
   ]
  },
  {
   "cell_type": "code",
   "execution_count": 40,
   "metadata": {},
   "outputs": [
    {
     "name": "stdout",
     "output_type": "stream",
     "text": [
      "['A', 'B', 'C', 'D', 'E', 'F', 'G', 'H', 'I', 'J', 'K', 'L', 'M', 'N', 'O', 'P', 'Q', 'R', 'S', 'T', 'U', 'V', 'W', 'X', 'Y', 'Z']\n",
      "['A', 'B', 'C', 'D', 'E', 'F', 'G', 'H', 'I', 'J', 'K', 'L', 'M', 'N', 'O', 'P', 'Q', 'R', 'S', 'T', 'U', 'V', 'W', 'X', 'Y', 'Z']\n"
     ]
    }
   ],
   "source": [
    "print([chr(i) for i in range(65,91)])\n",
    "\n",
    "import string\n",
    "print([i for i in string.ascii_uppercase])\n"
   ]
  },
  {
   "cell_type": "markdown",
   "metadata": {},
   "source": [
    "##### C-1.20 \n",
    "Python’s random module includes a function shuffle(data) that accepts a\n",
    "list of elements and randomly reorders the elements so that each possible order occurs with equal probability. The random module includes a\n",
    "more basic function randint(a, b) that returns a uniformly random integer\n",
    "from a to b (including both endpoints). Using only the randint function,\n",
    "implement your own version of the shuffle function."
   ]
  },
  {
   "cell_type": "code",
   "execution_count": null,
   "metadata": {},
   "outputs": [],
   "source": [
    "from random import randint\n",
    "\n",
    "def shuf(data): \n",
    "    for i in data:\n",
    "        \n",
    "    return randint()\n"
   ]
  },
  {
   "cell_type": "markdown",
   "metadata": {},
   "source": [
    "##### C-1.21 \n",
    "Write a Python program that repeatedly reads lines from standard input\n",
    "until an EOFError is raised, and then outputs those lines in reverse order\n",
    "(a user can indicate end of input by typing ctrl-D)"
   ]
  },
  {
   "cell_type": "code",
   "execution_count": null,
   "metadata": {},
   "outputs": [],
   "source": []
  },
  {
   "cell_type": "markdown",
   "metadata": {},
   "source": [
    "##### C-1.22 \n",
    "Write a short Python program that takes two arrays a and b of length n\n",
    "storing int values, and returns the dot product of a and b. That is, it returns\n",
    "an array c of length n such that c[i] = a[i] · b[i], for i = 0,...,n−1."
   ]
  },
  {
   "cell_type": "code",
   "execution_count": null,
   "metadata": {},
   "outputs": [],
   "source": []
  },
  {
   "cell_type": "markdown",
   "metadata": {},
   "source": [
    "##### C-1.23 \n",
    "Give an example of a Python code fragment that attempts to write an ele\u0002ment to a list based on an index that may be out of bounds. If that index\n",
    "is out of bounds, the program should catch the exception that results, and\n",
    "print the following error message:\n",
    "“Don’t try buffer overflow attacks in Python!”"
   ]
  },
  {
   "cell_type": "code",
   "execution_count": null,
   "metadata": {},
   "outputs": [],
   "source": []
  },
  {
   "cell_type": "markdown",
   "metadata": {},
   "source": [
    "##### C-1.24 \n",
    "Write a short Python function that counts the number of vowels in a given\n",
    "character string."
   ]
  },
  {
   "cell_type": "code",
   "execution_count": null,
   "metadata": {},
   "outputs": [],
   "source": []
  },
  {
   "cell_type": "markdown",
   "metadata": {},
   "source": [
    "##### C-1.25 \n",
    "Write a short Python function that takes a string s, representing a sentence,\n",
    "and returns a copy of the string with all punctuation removed. For example, if given the string \"Let s try, Mike.\", this function would return\n",
    "\"Lets try Mike\"."
   ]
  },
  {
   "cell_type": "code",
   "execution_count": null,
   "metadata": {},
   "outputs": [],
   "source": []
  },
  {
   "cell_type": "markdown",
   "metadata": {},
   "source": [
    "##### C-1.26 \n",
    "Write a short program that takes as input three integers, a, b, and c, from\n",
    "the console and determines if they can be used in a correct arithmetic\n",
    "formula (in the given order), like “a+b = c,” “a = b−c,” or “a ∗ b = c.”"
   ]
  },
  {
   "cell_type": "code",
   "execution_count": null,
   "metadata": {},
   "outputs": [],
   "source": []
  },
  {
   "cell_type": "markdown",
   "metadata": {},
   "source": [
    "##### C-1.27 \n",
    "In Section 1.8, we provided three different implementations of a generator\n",
    "that computes factors of a given integer. The third of those implementa\u0002tions, from page 41, was the most efficient, but we noted that it did not\n",
    "yield the factors in increasing order. Modify the generator so that it reports\n",
    "factors in increasing order, while maintaining its general performance ad\u0002vantages."
   ]
  },
  {
   "cell_type": "code",
   "execution_count": null,
   "metadata": {},
   "outputs": [],
   "source": []
  },
  {
   "cell_type": "markdown",
   "metadata": {},
   "source": [
    "#####  C-1.28 "
   ]
  },
  {
   "cell_type": "markdown",
   "metadata": {},
   "source": []
  }
 ],
 "metadata": {
  "kernelspec": {
   "display_name": "Python 3.9.7 ('base')",
   "language": "python",
   "name": "python3"
  },
  "language_info": {
   "codemirror_mode": {
    "name": "ipython",
    "version": 3
   },
   "file_extension": ".py",
   "mimetype": "text/x-python",
   "name": "python",
   "nbconvert_exporter": "python",
   "pygments_lexer": "ipython3",
   "version": "3.9.7"
  },
  "orig_nbformat": 4,
  "vscode": {
   "interpreter": {
    "hash": "610a6f344c2137faf927ea819c63f6cee33a2c04455044b28099f39fe9722347"
   }
  }
 },
 "nbformat": 4,
 "nbformat_minor": 2
}
